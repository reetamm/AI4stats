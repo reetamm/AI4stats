{
  "nbformat": 4,
  "nbformat_minor": 0,
  "metadata": {
    "colab": {
      "provenance": [],
      "authorship_tag": "ABX9TyMHOVnbVlysd9vd8pe8KyQc"
    },
    "kernelspec": {
      "name": "ir",
      "display_name": "R"
    },
    "language_info": {
      "name": "R"
    }
  },
  "cells": [
    {
      "cell_type": "markdown",
      "source": [
        "#Introduction\n",
        "We will be using Google Colab to implement this example that covers linear, non-linear, and quantile regression. First, go to https://colab.research.google.com/. Click File -> New notebook in Drive, and then change the runtime to R (Runtime -> Change runtime type, then pick R in the dropdown). We will not be using GPUs, so keep the CPU box checked.\n",
        "\n",
        "# Installation\n",
        "To install Keras, run the following code. Colab already has Python and Tensorflow modules installed, so we do not need to do anything particularly complicated here."
      ],
      "metadata": {
        "id": "N9BNK-8v-reV"
      }
    },
    {
      "cell_type": "code",
      "execution_count": null,
      "metadata": {
        "id": "7Zw2SXm-CDc4"
      },
      "outputs": [],
      "source": [
        "remotes::install_github(\"rstudio/tensorflow\")"
      ]
    },
    {
      "cell_type": "code",
      "source": [
        "install.packages(\"keras3\")"
      ],
      "metadata": {
        "id": "2hXaWMdFCdmf"
      },
      "execution_count": null,
      "outputs": []
    },
    {
      "cell_type": "code",
      "source": [
        "library(\"keras3\")"
      ],
      "metadata": {
        "id": "ReuP2eaJCnDc"
      },
      "execution_count": null,
      "outputs": []
    },
    {
      "cell_type": "markdown",
      "source": [
        "Set seeds for reproducibility."
      ],
      "metadata": {
        "id": "MNETS8WVAtXK"
      }
    },
    {
      "cell_type": "code",
      "source": [
        "tensorflow::set_random_seed(1)"
      ],
      "metadata": {
        "id": "eKxbKqrzDFQo"
      },
      "execution_count": null,
      "outputs": []
    },
    {
      "cell_type": "markdown",
      "source": [
        "# Extracting a dataset\n",
        "\n",
        "We will be downloading a dataset of US wildfires, which is hosted on github. The data are described in [Richards and Huser (2022)](https://arxiv.org/abs/2208.07581) and also [here](https://github.com/Jbrich95/pinnEV/blob/main/R/USWild.R).\n",
        "\n",
        "We take only the last 5 years of the dataset (there's seven months per year, so 7*5 = 35 observations)."
      ],
      "metadata": {
        "id": "ZoVmz21EAz4G"
      }
    },
    {
      "cell_type": "code",
      "source": [
        "file_url <- \"https://github.com/Jbrich95/pinnEV/blob/main/data/USWild.rda?raw=true\"\n",
        "load(url(file_url))\n",
        "Y = USWild$BA[127:161, , ]\n",
        "X = array(dim = c(35, 129, 61, 22))\n",
        "X[, , , 1] = USWild$X$X.t2m[127:161, , , ]\n",
        "X[, , , 2] = USWild$X$X.SPI[127:161, , , ]\n",
        "X[, , , -c(1, 2)] = USWild$X$X.N[127:161, , , 1:20]"
      ],
      "metadata": {
        "id": "0shTUEZEDIDt"
      },
      "execution_count": null,
      "outputs": []
    },
    {
      "cell_type": "markdown",
      "source": [
        "The data are arranged on a regular spatial grid, and we have 22 covariates. The first two covariates are monthly air temperature (t2m) are standardised preciptation index (SPI); the remaing covariates are a mixture of metereological and land cover descriptors."
      ],
      "metadata": {
        "id": "u_G0-W3dBGl1"
      }
    },
    {
      "cell_type": "code",
      "source": [
        "dim(X)\n",
        "cov.names <- c(\"t2m\", \"SPI\", USWild$X$cov.names[1:20])\n",
        "print(cov.names) #Prints names of covariates"
      ],
      "metadata": {
        "id": "yM_bfIz2DLWR"
      },
      "execution_count": null,
      "outputs": []
    },
    {
      "cell_type": "markdown",
      "source": [
        "The response is monthly square-root burnt area due to wildfires in the US. Burnt area data are very heavy-tailed, so taking the square root is going to make modelling a bit more numerically stable."
      ],
      "metadata": {
        "id": "5W6OtGZeBLDe"
      }
    },
    {
      "cell_type": "code",
      "source": [
        "image(log(1 + Y[1, , ]), col = heat.colors(20, rev = T), asp = 0.625)"
      ],
      "metadata": {
        "id": "1vwE-azaDPJc"
      },
      "execution_count": null,
      "outputs": []
    },
    {
      "cell_type": "markdown",
      "source": [
        "We can also look at some of the covariates. Note that these maps are for the first month in the dataset."
      ],
      "metadata": {
        "id": "UI4-ZUfbBTGh"
      }
    },
    {
      "cell_type": "code",
      "source": [
        "par(mfrow = c(1, 2))\n",
        "image(X[1, , , 1],\n",
        "      col = heat.colors(20, rev = T),\n",
        "      main = \"temperature\",\n",
        "      asp = 0.625)\n",
        "image(X[1, , , 2],\n",
        "      col = terrain.colors(20, rev = F),\n",
        "      main = \"SPI\",\n",
        "      asp = 0.625)"
      ],
      "metadata": {
        "id": "fLn1fK7sBTsg"
      },
      "execution_count": null,
      "outputs": []
    },
    {
      "cell_type": "markdown",
      "source": [
        "We will model extremes of positive $Y$, i.e., square-root burnt aree. Note that I'm completely removing all zero values - we won't be needing these here - and now our data are stored vectors, rather than arrays."
      ],
      "metadata": {
        "id": "q9vObg9ABXxK"
      }
    },
    {
      "cell_type": "code",
      "source": [
        "X.positive <- apply(X, 4, function(x) x[Y > 0])\n",
        "Y.positive <- sqrt(Y[Y > 0])"
      ],
      "metadata": {
        "id": "JrMqzlvaDSTp"
      },
      "execution_count": null,
      "outputs": []
    },
    {
      "cell_type": "markdown",
      "source": [
        "When it comes to ML modelling, training is more numerically stable if your data are standardised/normalised. Here, we scale the covariates to have zero mean, unit variance."
      ],
      "metadata": {
        "id": "nRwjc5y4BgdW"
      }
    },
    {
      "cell_type": "code",
      "source": [
        "means <- apply(X.positive, 2, mean)\n",
        "sds <- apply(X.positive, 2, sd)\n",
        "X.scaled <- apply(as.matrix(1:ncol(X.positive)), 1, function(ind)\n",
        "  (X.positive[, ind] - means[ind]) / sds[ind])"
      ],
      "metadata": {
        "id": "qAZqSLD3DUtw"
      },
      "execution_count": null,
      "outputs": []
    },
    {
      "cell_type": "markdown",
      "source": [
        "# Standard prediction\n",
        "\n",
        "We now build and train a standard prediction model with Keras. To account for the heavy-tailedness of the response, we will target $\\mathbb{E} \\log Y$ using the mean-squared error loss function.\n",
        "\n",
        "For simplicity, we will sample 45000 observations for training and 5000 for testing."
      ],
      "metadata": {
        "id": "RDXzO85SBjae"
      }
    },
    {
      "cell_type": "code",
      "source": [
        "n = length(Y.positive)\n",
        "train_sample_idx <- sample(1:n, 45000)\n",
        "test_sample_idx <- sample((1:n)[-train_sample_idx], 5000)\n",
        "Y_train <- Y.positive[train_sample_idx]\n",
        "X_train <- X.scaled[train_sample_idx, ]\n",
        "Y_test <- Y.positive[test_sample_idx]\n",
        "X_test <- X.scaled[test_sample_idx, ]"
      ],
      "metadata": {
        "id": "gK0tl3-eDXl_"
      },
      "execution_count": null,
      "outputs": []
    },
    {
      "cell_type": "markdown",
      "source": [
        "We first show how to build Keras models sequentially. Here we have two hidden layers, each of width 64, with ReLU activation functions. The final layer has a linear activation function:"
      ],
      "metadata": {
        "id": "Gq4fJPqnBorK"
      }
    },
    {
      "cell_type": "code",
      "source": [
        "model <- keras_model_sequential()\n",
        "\n",
        "model %>%\n",
        "\n",
        "  # Adds a densely-connected layer with 64 units to the model:\n",
        "  layer_dense(units = 64, activation = 'relu') %>%\n",
        "\n",
        "  # Add another:\n",
        "  layer_dense(units = 64, activation = 'relu') %>%\n",
        "\n",
        "\n",
        "  # Add a final layer with 1 ouput\n",
        "  layer_dense(units = 1, activation = 'linear')"
      ],
      "metadata": {
        "id": "GTNo2RiwDaD0"
      },
      "execution_count": null,
      "outputs": []
    },
    {
      "cell_type": "markdown",
      "source": [
        "Now, compile the model with a loss function and an optimizer. Here we use Adam with standard hyper-parameters, and the MSE loss function to do regular prediction. We also evaluated the mean absolute error, and track its value during training."
      ],
      "metadata": {
        "id": "Ium9yGqoBq4S"
      }
    },
    {
      "cell_type": "code",
      "source": [
        "model %>% compile(\n",
        "  optimizer = \"adam\",\n",
        "  loss = \"mean_squared_error\",\n",
        "  metrics = list(\"mean_absolute_error\")\n",
        ")"
      ],
      "metadata": {
        "id": "ZKEdlbi5Db3e"
      },
      "execution_count": null,
      "outputs": []
    },
    {
      "cell_type": "markdown",
      "source": [
        "Now fit the model. We train the model for 100 epochs, with an 80/20 validation data split. The default minibatch size is 16. Note that the model gradients are not evaluated on the validation data, and instead we can use the validation loss (i.e., the loss evaluated on the validation data) to motivate hyperparameters (e.g., neural net architecture) choices.\n",
        "\n",
        "If you choose to cancel training (ctrl + C, or the big red stop button), then the current model state will be saved and accessible. Feel free to set verbose = 1 to track the training."
      ],
      "metadata": {
        "id": "cBe05K5IBuWA"
      }
    },
    {
      "cell_type": "code",
      "source": [
        "history <- model %>% fit(\n",
        "  x = as.matrix(X_train),\n",
        "  y = as.matrix(log(Y_train)),\n",
        "  epochs = 100,\n",
        "  validation_split = 0.2,\n",
        "  verbose = 1,\n",
        "  shuffle = T\n",
        ")"
      ],
      "metadata": {
        "id": "GDFBw5lVDd1-"
      },
      "execution_count": null,
      "outputs": []
    },
    {
      "cell_type": "markdown",
      "source": [
        "Plot the training history, and print the summary of the architecture."
      ],
      "metadata": {
        "id": "MnQh_IbSBwUc"
      }
    },
    {
      "cell_type": "code",
      "source": [
        "plot(history)\n",
        "summary(model)"
      ],
      "metadata": {
        "id": "xrVsykamB2w2"
      },
      "execution_count": null,
      "outputs": []
    },
    {
      "cell_type": "markdown",
      "source": [
        "We can see the the model begins to overfit quickly. Let's re-run the model with a checkpointed training scheme; the model loss will be evaluated at each epoch, and will be saved if it provides the best fit on the validation data. In this way, we can re-load the model state/checkpoint which best generalised to unseen data (in this case, the validation data)."
      ],
      "metadata": {
        "id": "Xs_ilkWAB7A1"
      }
    },
    {
      "cell_type": "code",
      "source": [
        "model <- keras_model_sequential() %>%\n",
        "  layer_dense(units = 64, activation = 'relu') %>%\n",
        "  layer_dense(units = 64, activation = 'relu') %>%\n",
        "  layer_dense(units = 1, activation = 'linear') %>%\n",
        "  compile( optimizer = \"adam\", loss = \"mean_squared_error\",\n",
        "           metrics = list(\"mean_absolute_error\"))\n",
        "\n",
        "checkpoint <- callback_model_checkpoint(\n",
        "  paste0(\"checkpoints/LSE.weights.h5\"),\n",
        "  monitor = \"val_loss\",\n",
        "  verbose = 0,\n",
        "  save_best_only = TRUE,\n",
        "  save_weights_only = TRUE,\n",
        "  mode = \"min\",\n",
        "  save_freq = \"epoch\"\n",
        ")\n",
        "\n"
      ],
      "metadata": {
        "id": "wS5b2Y1IE2ef"
      },
      "execution_count": null,
      "outputs": []
    },
    {
      "cell_type": "code",
      "source": [
        "history <- model %>% fit( x = X_train,\n",
        "                          y = as.matrix(log(Y_train)),\n",
        "                          epochs=50,\n",
        "                          batch_size=16,\n",
        "                            verbose = 1,\n",
        "                          callbacks = list(checkpoint),\n",
        "                          validation_split=0.2)"
      ],
      "metadata": {
        "id": "TOZQytDdIaEN"
      },
      "execution_count": null,
      "outputs": []
    },
    {
      "cell_type": "code",
      "source": [
        "plot(history)"
      ],
      "metadata": {
        "id": "4au5qUgXKRco"
      },
      "execution_count": null,
      "outputs": []
    },
    {
      "cell_type": "markdown",
      "source": [
        "Now, load that best saved checkpoint:"
      ],
      "metadata": {
        "id": "E9ofCuCfCDvQ"
      }
    },
    {
      "cell_type": "code",
      "source": [
        "model <- load_model_weights(model,\n",
        "                                 filepath = paste0(\"checkpoints/LSE.weights.h5\"))"
      ],
      "metadata": {
        "id": "bzwcwF7aKT1v"
      },
      "execution_count": null,
      "outputs": []
    },
    {
      "cell_type": "markdown",
      "source": [
        "We now get the predictions from the fitted model, using the standard `predict` function."
      ],
      "metadata": {
        "id": "JD29oJc0CKj_"
      }
    },
    {
      "cell_type": "code",
      "source": [
        "predictions <- model %>% predict(X_test)\n",
        "plot(log(Y_test), predictions)\n",
        "abline(a = 0, b = 1)"
      ],
      "metadata": {
        "id": "PZN7pxN8KlCA"
      },
      "execution_count": null,
      "outputs": []
    },
    {
      "cell_type": "markdown",
      "source": [
        "For comparsion, we can also fit a linear model. This can be built and trained in Keras as well; recall that a linear model is a special case of a one-layered MLP with one neuron and with a linear final activation layer."
      ],
      "metadata": {
        "id": "Om570ReHCTqk"
      }
    },
    {
      "cell_type": "code",
      "source": [
        "linear.model <- keras_model_sequential() %>%\n",
        "  layer_dense(units = 1, activation = 'linear') %>%\n",
        "  compile(\n",
        "    optimizer = \"adam\",\n",
        "    loss = \"mean_squared_error\",\n",
        "    metrics = list(\"mean_absolute_error\")\n",
        "  )\n",
        "\n",
        "\n",
        "history <- linear.model %>% fit(\n",
        "  x = X_train,\n",
        "  y = as.matrix(log(Y_train)),\n",
        "  epochs = 15,\n",
        "  verbose = 0,\n",
        "  validation_split = 0.2\n",
        ")"
      ],
      "metadata": {
        "id": "UTR2c-SkKpen"
      },
      "execution_count": null,
      "outputs": []
    },
    {
      "cell_type": "markdown",
      "source": [
        "This model trains much faster than the MLP…"
      ],
      "metadata": {
        "id": "dMW963Y4CXAJ"
      }
    },
    {
      "cell_type": "code",
      "source": [
        "plot(history)"
      ],
      "metadata": {
        "id": "d4zpzo7SK3ai"
      },
      "execution_count": null,
      "outputs": []
    },
    {
      "cell_type": "markdown",
      "source": [
        "Here we plot the out-of-sample predictions. As you would expect, the model performs much more poorly than the deep neural network model."
      ],
      "metadata": {
        "id": "1o8vNJk9CYwj"
      }
    },
    {
      "cell_type": "code",
      "source": [
        "linear_predictions <- linear.model %>% predict(X_test)"
      ],
      "metadata": {
        "id": "5eR_l4bpK5ih"
      },
      "execution_count": null,
      "outputs": []
    },
    {
      "cell_type": "code",
      "source": [
        "plot(log(Y_test), linear_predictions, asp = 1)\n",
        "abline(a = 0, b = 1)"
      ],
      "metadata": {
        "id": "RbJhUMzyK7Du"
      },
      "execution_count": null,
      "outputs": []
    },
    {
      "cell_type": "markdown",
      "source": [
        "We may also want to see how the predictions change with the covariates. Below, we plot maps of the predicted log(Y) for a specific month t. Note that we have to use the original covariates here, rather than just those conditional on Y>0; this means we also need to remember to scale our original covariate vector, in the same was as we did above for the subset of covariates used in the model."
      ],
      "metadata": {
        "id": "0Q7XmsPsCbBN"
      }
    },
    {
      "cell_type": "code",
      "source": [
        "par(mfrow = c(1, 3))\n",
        "\n",
        "t <- 1\n",
        "X.plot <- X[t, , , ]\n",
        "dim(X.plot) <- c(prod(dim(X.plot)[1:2]), dim(X.plot)[3])\n",
        "# Apply scaling\n",
        "X.plot.scaled <- apply(as.matrix(1:ncol(X.plot)), 1, function(ind)\n",
        "  (X.plot[, ind] - means[ind]) / sds[ind])\n",
        "\n",
        "linear.predictions <- linear.model %>% predict(X.plot.scaled)\n",
        "\n",
        "dim(linear.predictions) <- dim(Y)[2:3]\n",
        "linear.predictions[Y[t, , ] < 0] = NA\n",
        "#linear.predictions[Y[t, , ] <= 0] = NA #Comment for US-wide prediction\n",
        "image(log(Y[t, , ]), main = \"Observation\",asp=0.625)\n",
        "\n",
        "\n",
        "image(linear.predictions, main = \"Linear model predictions\",asp=0.625)\n",
        "\n",
        "NN.predictions <- model %>% predict(X.plot.scaled)\n",
        "\n",
        "dim(NN.predictions) <- dim(Y)[2:3]\n",
        "NN.predictions[Y[t, , ] < 0] = NA\n",
        "#NN.predictions[Y[t, , ] <= 0] = NA #Comment for US-wide prediction\n",
        "image(NN.predictions, main = \"MLP model predictions\",asp=0.625)"
      ],
      "metadata": {
        "id": "bLGZPsxuK9S1"
      },
      "execution_count": null,
      "outputs": []
    },
    {
      "cell_type": "markdown",
      "source": [
        "# Quantile regression\n",
        "\n",
        "Now, we will perform quantile regression using deep neural networks. We will target the $\\tau=0.8$\n",
        "quantile of $Y|X$\n",
        "\n",
        "by using the pinball loss function. We will supply this as a custom loss function to Keras.\n",
        "\n",
        "All loss functions in Keras take two in puts: `y_true`, the true values of your response data, and `y_pred`, the predicted values that are outputted from your neural network model. Note that `y_pred` does not need to be directly connected to $Y$, e.g., the expectation or a quantile; below, `y_pred` will correspond to the GPD parameters.\n",
        "\n",
        "Loss functions must be differentiable. To ensure this is the case, we build them using backend Keras functions. This can sometimes make it quite difficult to write custom loss functions in Keras; for these examples, the loss functions are quite simple, but you may need to get a bit creative if your loss function uses non-standard operations!"
      ],
      "metadata": {
        "id": "ri12CPN1Cso_"
      }
    },
    {
      "cell_type": "code",
      "source": [
        "tau <- 0.8 # Set quantile level\n",
        "tilted_loss <- function(y_true, y_pred) {\n",
        "  #K <- backend()\n",
        "\n",
        "  error = y_true - y_pred\n",
        "  return(op_mean(op_maximum(tau * error, (tau - 1) * error)))\n",
        "}"
      ],
      "metadata": {
        "id": "zvAzZmOHLIor"
      },
      "execution_count": null,
      "outputs": []
    },
    {
      "cell_type": "markdown",
      "source": [
        "Now, we use the same hidden layer model, but target the 80% quantile of Y."
      ],
      "metadata": {
        "id": "pzvmgi-8DE5N"
      }
    },
    {
      "cell_type": "code",
      "source": [
        "u.model <- keras_model_sequential() %>%\n",
        "  layer_dense(units = 64, activation = 'relu') %>%\n",
        "  layer_dense(units = 64, activation = 'relu')"
      ],
      "metadata": {
        "id": "c2s1kxZbLK6Y"
      },
      "execution_count": null,
      "outputs": []
    },
    {
      "cell_type": "markdown",
      "source": [
        "This time, I specify an exponential activation in the final layer, to ensure that the quantile is strictly positive; recall that we removed all non-positive values of the response."
      ],
      "metadata": {
        "id": "FZHOPxI_DHOv"
      }
    },
    {
      "cell_type": "code",
      "source": [
        "u.model <- u.model %>% layer_dense(\n",
        "  units = 1,\n",
        "  activation = \"exponential\")"
      ],
      "metadata": {
        "id": "Kb5n3pFULM7I"
      },
      "execution_count": null,
      "outputs": []
    },
    {
      "cell_type": "markdown",
      "source": [
        "We compile and fit the model. This time, I supply a larger minibatch size, in order to speed-up training slightly."
      ],
      "metadata": {
        "id": "iIOJ7itrDJOX"
      }
    },
    {
      "cell_type": "code",
      "source": [
        "u.model %>%\n",
        "  compile(optimizer = \"adam\", loss = tilted_loss)\n",
        "\n",
        "checkpoint <- callback_model_checkpoint(\n",
        "  paste0(\"checkpoints/u.weights.h5\"),\n",
        "  monitor = \"val_loss\",\n",
        "  verbose = 0,\n",
        "  save_best_only = TRUE,\n",
        "  save_weights_only = TRUE,\n",
        "  mode = \"min\",\n",
        "  save_freq = \"epoch\"\n",
        ")\n",
        "\n",
        "history <- u.model %>% fit(\n",
        "  x = X_train,\n",
        "  y = as.matrix(Y_train),\n",
        "  batch_size = 64,\n",
        "  epochs = 40,\n",
        "    verbose = 0,\n",
        "  callbacks = list(checkpoint),\n",
        "  validation_split = 0.2\n",
        ")"
      ],
      "metadata": {
        "id": "3AVqegHDLPuH"
      },
      "execution_count": null,
      "outputs": []
    },
    {
      "cell_type": "code",
      "source": [
        "plot(history)"
      ],
      "metadata": {
        "id": "bFxymMLXLlAn"
      },
      "execution_count": null,
      "outputs": []
    },
    {
      "cell_type": "markdown",
      "source": [
        "Now load that best checkpoint:"
      ],
      "metadata": {
        "id": "RJs-1fooDNIr"
      }
    },
    {
      "cell_type": "code",
      "source": [
        "u.model <- load_model_weights(u.model,\n",
        "                                 filepath = paste0(\"checkpoints/u.weights.h5\"))"
      ],
      "metadata": {
        "id": "U6XZ9hhALnEU"
      },
      "execution_count": null,
      "outputs": []
    },
    {
      "cell_type": "markdown",
      "source": [
        "Evaluate the test predictions of the $\\tau$-quantile. As a sanity check, we will evalute the proportion of test data that exceed the predicted quantile; this should be close to $1-\\tau$."
      ],
      "metadata": {
        "id": "7sP4d6TcDPzl"
      }
    },
    {
      "cell_type": "code",
      "source": [
        "test.pred.theshold <- u.model %>% predict(X_test)\n",
        "mean(Y_test < test.pred.theshold) # Should be close to tau"
      ],
      "metadata": {
        "id": "ew5e087TLsee"
      },
      "execution_count": null,
      "outputs": []
    },
    {
      "cell_type": "markdown",
      "source": [
        "We now plot maps of the estimated $\\tau$\n",
        "-quantile for a specified month. Below, we take the third month, but feel free to change `t` in the block of code."
      ],
      "metadata": {
        "id": "E1OdOiv1Da0a"
      }
    },
    {
      "cell_type": "code",
      "source": [
        "par(mfrow = c(1, 2))\n",
        "\n",
        "t <- 3\n",
        "X.plot <- X[t, , , ]\n",
        "dim(X.plot) <- c(prod(dim(X.plot)[1:2]), dim(X.plot)[3])\n",
        "# Apply scaling\n",
        "X.plot.scaled <- apply(as.matrix(1:ncol(X.plot)), 1, function(ind)\n",
        "  (X.plot[, ind] - means[ind]) / sds[ind])\n",
        "\n",
        "image(log(Y[t, , ]), main = \"Observation\", asp = 0.625)\n",
        "\n",
        "NN.predictions <- u.model %>% predict(X.plot.scaled)\n",
        "\n",
        "dim(NN.predictions) <- dim(Y)[2:3]\n",
        "NN.predictions[Y[t, , ] < 0] = NA\n",
        "#NN.predictions[Y[t, , ] <= 0] = NA #Comment to provide US-wide predictions.\n",
        "image(log(NN.predictions), main = \"Threshold prediction\", asp = 0.625)\n"
      ],
      "metadata": {
        "id": "pL2Xs4dGLwXK"
      },
      "execution_count": null,
      "outputs": []
    }
  ]
}